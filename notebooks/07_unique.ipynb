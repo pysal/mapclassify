{
 "cells": [
  {
   "cell_type": "markdown",
   "metadata": {},
   "source": [
    "# Unique Value Classification"
   ]
  },
  {
   "cell_type": "code",
   "execution_count": null,
   "metadata": {
    "ExecuteTime": {
     "end_time": "2022-11-05T19:18:41.941529Z",
     "start_time": "2022-11-05T19:18:40.603589Z"
    }
   },
   "outputs": [],
   "source": [
    "import mapclassify\n",
    "import numpy\n",
    "import libpysal\n",
    "import geopandas\n",
    "import distinctipy\n",
    "import matplotlib.patches as mpatches\n",
    "import matplotlib.pyplot as plt\n",
    "import pandas\n",
    "\n",
    "mapclassify.__version__"
   ]
  },
  {
   "cell_type": "code",
   "execution_count": null,
   "metadata": {},
   "outputs": [],
   "source": [
    "libpysal.examples.load_example(\"South\")\n",
    "gdf = geopandas.read_file(libpysal.examples.get_path('south.shp'))"
   ]
  },
  {
   "cell_type": "code",
   "execution_count": null,
   "metadata": {},
   "outputs": [],
   "source": [
    "gdf.columns"
   ]
  },
  {
   "cell_type": "code",
   "execution_count": null,
   "metadata": {},
   "outputs": [],
   "source": [
    "uv = mapclassify.UniqueValue(gdf, 'STATE_NAME')"
   ]
  },
  {
   "cell_type": "code",
   "execution_count": null,
   "metadata": {},
   "outputs": [],
   "source": [
    "uv.plot()"
   ]
  },
  {
   "cell_type": "code",
   "execution_count": null,
   "metadata": {},
   "outputs": [],
   "source": [
    "uv.plot(sort_by_counts=True)"
   ]
  },
  {
   "cell_type": "code",
   "execution_count": null,
   "metadata": {},
   "outputs": [],
   "source": [
    "uv.plot(sort_by_counts=True, ascending=False, bbox_to_anchor=(1.3,1))"
   ]
  },
  {
   "cell_type": "code",
   "execution_count": null,
   "metadata": {},
   "outputs": [],
   "source": [
    "uv.plot(sort_by_counts=True, ascending=False, bbox_to_anchor=(1.3,1),\n",
    "       title='State')"
   ]
  },
  {
   "cell_type": "code",
   "execution_count": null,
   "metadata": {},
   "outputs": [],
   "source": [
    "url = \"https://www2.census.gov/geo/tiger/GENZ2018/shp/cb_2018_us_county_20m.zip\"\n",
    "us = geopandas.read_file(url)\n",
    "us = us[us.STATEFP!='02']\n",
    "us = us[us.STATEFP!='15']"
   ]
  },
  {
   "cell_type": "code",
   "execution_count": null,
   "metadata": {},
   "outputs": [],
   "source": [
    "mapclassify.UniqueValue(us, 'STATEFP').plot()"
   ]
  },
  {
   "cell_type": "code",
   "execution_count": null,
   "metadata": {},
   "outputs": [],
   "source": [
    "mapclassify.UniqueValue(us, 'STATEFP').plot(sort_by_counts=True, ascending=False)"
   ]
  },
  {
   "cell_type": "code",
   "execution_count": null,
   "metadata": {},
   "outputs": [],
   "source": [
    "mapclassify.UniqueValue(us, 'STATEFP').plot(sort_by_counts=True, ascending=False,\n",
    "                                           fontsize=8)"
   ]
  },
  {
   "cell_type": "code",
   "execution_count": null,
   "metadata": {},
   "outputs": [],
   "source": [
    "mapclassify.UniqueValue(us, 'STATEFP').plot(sort_by_counts=True, ascending=False,\n",
    "                                           fontsize=8, bbox_to_anchor=(1.1, 1))"
   ]
  },
  {
   "cell_type": "code",
   "execution_count": null,
   "metadata": {},
   "outputs": [],
   "source": [
    "mapclassify.UniqueValue(us, 'STATEFP').plot(sort_by_counts=True, ascending=False,\n",
    "                                           fontsize=8, bbox_to_anchor=(1.1, 1), loc='center right')"
   ]
  },
  {
   "cell_type": "code",
   "execution_count": null,
   "metadata": {},
   "outputs": [],
   "source": [
    "mapclassify.UniqueValue(us, 'STATEFP').plot(legend=False)"
   ]
  },
  {
   "cell_type": "code",
   "execution_count": null,
   "metadata": {},
   "outputs": [],
   "source": [
    "mapclassify.UniqueValue(us, 'STATEFP').plot(legend=True, axis_off=False)"
   ]
  },
  {
   "cell_type": "code",
   "execution_count": null,
   "metadata": {},
   "outputs": [],
   "source": [
    "mapclassify.UniqueValue(us, 'STATEFP').plot(legend=True, axis_off=False)"
   ]
  },
  {
   "cell_type": "code",
   "execution_count": null,
   "metadata": {},
   "outputs": [],
   "source": [
    "mapclassify.UniqueValue(us, 'STATEFP').plot(legend=True, axis_off=False, \n",
    "                                            title='state fips')"
   ]
  },
  {
   "cell_type": "code",
   "execution_count": null,
   "metadata": {},
   "outputs": [],
   "source": [
    "mapclassify.UniqueValue(us, 'STATEFP').plot(legend=True, axis_off=False, \n",
    "                                            title='state fips',\n",
    "                                           title_fontsize='large')"
   ]
  },
  {
   "cell_type": "code",
   "execution_count": null,
   "metadata": {},
   "outputs": [],
   "source": [
    "mapclassify.UniqueValue(us, 'STATEFP').plot(legend=True, axis_off=False, \n",
    "                                            title='state fips',\n",
    "                                           title_fontsize='x-large')"
   ]
  }
 ],
 "metadata": {
  "kernelspec": {
   "display_name": "Python 3 (ipykernel)",
   "language": "python",
   "name": "python3"
  },
  "language_info": {
   "codemirror_mode": {
    "name": "ipython",
    "version": 3
   },
   "file_extension": ".py",
   "mimetype": "text/x-python",
   "name": "python",
   "nbconvert_exporter": "python",
   "pygments_lexer": "ipython3",
   "version": "3.10.6"
  }
 },
 "nbformat": 4,
 "nbformat_minor": 4
}
